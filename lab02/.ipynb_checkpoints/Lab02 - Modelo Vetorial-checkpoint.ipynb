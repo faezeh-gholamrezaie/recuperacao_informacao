{
 "cells": [
  {
   "cell_type": "code",
   "execution_count": 25,
   "metadata": {
    "collapsed": true
   },
   "outputs": [],
   "source": [
    "# coding: utf-8\n",
    "import nltk as n\n",
    "import math\n",
    "from collections import Counter\n",
    "\n",
    "inverted_index = {}\n",
    "def build(data):\n",
    "    data[\"noticia\"] = data.titulo + \" \" + data.subTitulo + \" \" + data.conteudo\n",
    "    for index, doc in data.iterrows():\n",
    "        doc.noticia = doc.noticia.lower()\n",
    "        words = [str(word) for word in n.word_tokenize(doc.noticia)]\n",
    "        freq_words = Counter(words)\n",
    "        for word in words:\n",
    "            inverted_index.setdefault(word, []).append((doc.idNoticia, freq_words[word]))\n",
    "\n",
    "    for word in inverted_index.keys():\n",
    "        inverted_index[word] = set(inverted_index[word])\n",
    "\n",
    "    inverted_index_aux = {}\n",
    "    M = len(data.noticia)\n",
    "    for word in inverted_index.keys():\n",
    "        k = len(list(inverted_index[word]))\n",
    "        v_idf = idf(M, k) \n",
    "        for i in range(len(list(inverted_index[word]))):\n",
    "            inverted_index_aux.setdefault(word, []).append({\n",
    "                \"docId\": list(inverted_index[word])[i][0],\n",
    "                \"tf\": list(inverted_index[word])[i][1] ,\n",
    "                \"idf\": v_idf\n",
    "            })\n",
    "\n",
    "    return inverted_index_aux\n",
    "\n",
    "\n",
    "def idf(M, k): \n",
    "    return math.log((M + 1) / k)\n"
   ]
  },
  {
   "cell_type": "code",
   "execution_count": 42,
   "metadata": {},
   "outputs": [],
   "source": [
    "def binary_representation(inverted_index, term):\n",
    "    term_search = term.split()\n",
    "    xy = []\n",
    "    type(inverted_index)\n",
    "#     for word_term in term_search:\n",
    "#         if inverted_index.has_key(word_term):\n",
    "#             xy.append(inverted_index[word_term])\n",
    "            \n",
    "    print (xy)\n",
    "#     vector_binary = {}\n",
    "#     data[\"noticia\"] = data.titulo + \" \" + data.subTitulo + \" \" + data.conteudo\n",
    "#     for index, doc in data.iterrows():\n",
    "#         doc.noticia = doc.noticia.lower()\n",
    "#         words = [str(word) for word in n.word_tokenize(doc.noticia)]\n",
    "#         vector = []\n",
    "#         for word_term in term_search:\n",
    "#             if word_term in words:\n",
    "#                 vector.append(1)\n",
    "#         # tem que retornar todos os documentos que tem segundo e turno e fazer a inter\n",
    "#         vector_binary[doc.idNoticia] = sum(vector)\n",
    "#     # decresccente\n",
    "#     print (vector_binary)\n"
   ]
  },
  {
   "cell_type": "code",
   "execution_count": 43,
   "metadata": {},
   "outputs": [
    {
     "name": "stdout",
     "output_type": "stream",
     "text": [
      "[]\n",
      "None\n"
     ]
    }
   ],
   "source": [
    "import pandas as p\n",
    "import numpy as np\n",
    "\n",
    "data = p.read_csv(\"data-set/estadao_noticias_eleicao.csv\", encoding = \"utf-8\")\n",
    "data = data.replace(np.NAN, \"\")\n",
    "#print (build(data))\n",
    "# print b.binary_representation(inverted_index.build(data), \"segundo turno\")\n",
    "print (binary_representation(inverted_index, \"segundo turno\"))\n"
   ]
  }
 ],
 "metadata": {
  "kernelspec": {
   "display_name": "Python 3",
   "language": "python",
   "name": "python3"
  },
  "language_info": {
   "codemirror_mode": {
    "name": "ipython",
    "version": 3
   },
   "file_extension": ".py",
   "mimetype": "text/x-python",
   "name": "python",
   "nbconvert_exporter": "python",
   "pygments_lexer": "ipython3",
   "version": "3.6.2"
  }
 },
 "nbformat": 4,
 "nbformat_minor": 2
}
