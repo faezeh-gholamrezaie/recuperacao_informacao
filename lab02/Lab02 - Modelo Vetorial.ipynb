{
 "cells": [
  {
   "cell_type": "markdown",
   "metadata": {},
   "source": [
    "# Lab02 - Modelo Vetorial"
   ]
  },
  {
   "cell_type": "markdown",
   "metadata": {},
   "source": [
    "### Construção do índice invertido"
   ]
  },
  {
   "cell_type": "markdown",
   "metadata": {},
   "source": [
    "O método a seguir permite construir um indice invertido, já inserindo informações que serão utilizadas na construção dos modelos vetoriais, e removendo acentuação das palavras e caracteres especiais."
   ]
  },
  {
   "cell_type": "code",
   "execution_count": 1,
   "metadata": {},
   "outputs": [],
   "source": [
    "import nltk as n\n",
    "import re\n",
    "import math\n",
    "import ast\n",
    "from unicodedata import normalize\n",
    "from collections import Counter\n",
    "\n",
    "def build(data):\n",
    "    inverted_index = {}\n",
    "    data[\"noticia\"] = data.titulo + \" \" + data.subTitulo + \" \" + data.conteudo\n",
    "    for index, doc in data.iterrows():\n",
    "        doc.noticia = doc.noticia.lower()\n",
    "        words = [clear_text(word) for word in n.word_tokenize(doc.noticia)]\n",
    "        freq_words = Counter(words)\n",
    "        for word in words:\n",
    "            inverted_index.setdefault(word, []).append((doc.idNoticia, freq_words[word]))\n",
    "\n",
    "    for word in inverted_index.keys():\n",
    "        inverted_index[word] = set(inverted_index[word])\n",
    "\n",
    "    inverted_index_aux = {}\n",
    "    M = len(data.noticia)\n",
    "    for word in inverted_index.keys():\n",
    "        k = len(list(inverted_index[word]))\n",
    "        v_idf = idf(M, k)\n",
    "        for i in range(len(list(inverted_index[word]))):\n",
    "            inverted_index_aux.setdefault(word, []).append({\n",
    "                \"docId\": list(inverted_index[word])[i][0],\n",
    "                \"tf\": list(inverted_index[word])[i][1] ,\n",
    "                \"idf\": v_idf\n",
    "            })\n",
    "\n",
    "    return inverted_index_aux"
   ]
  },
  {
   "cell_type": "markdown",
   "metadata": {},
   "source": [
    "Este método permite calcular o *idf* de um termo e assim penalizar termos populares na nossa coleção de documentos. "
   ]
  },
  {
   "cell_type": "code",
   "execution_count": 2,
   "metadata": {},
   "outputs": [],
   "source": [
    "def idf(M, k): return  math.log((M + 1) / k)"
   ]
  },
  {
   "cell_type": "markdown",
   "metadata": {},
   "source": [
    "Este método remove todos os caracteres especiais do texto bem como sua acentuação."
   ]
  },
  {
   "cell_type": "code",
   "execution_count": 3,
   "metadata": {},
   "outputs": [],
   "source": [
    "def clear_text(text):\n",
    "    pattern = re.compile('[^a-zA-Z0-9 ]')\n",
    "    text = normalize('NFKD', text).encode('ASCII', 'ignore').decode('ASCII')\n",
    "    return pattern.sub(' ', text)"
   ]
  },
  {
   "cell_type": "markdown",
   "metadata": {},
   "source": [
    "Como as listas do documento de validaçao vem em formato de string, foi necessario a criação desse método que  converte uma string que tem o formato de uma lista em um objeto do tipo lista do python."
   ]
  },
  {
   "cell_type": "code",
   "execution_count": 4,
   "metadata": {},
   "outputs": [],
   "source": [
    "def convert_str_in_lst(lst):\n",
    "    return ast.literal_eval(lst)"
   ]
  },
  {
   "cell_type": "markdown",
   "metadata": {},
   "source": [
    "## Modelos Vetoriais"
   ]
  },
  {
   "cell_type": "markdown",
   "metadata": {},
   "source": [
    "### Modelo binário"
   ]
  },
  {
   "cell_type": "markdown",
   "metadata": {},
   "source": [
    "texto"
   ]
  },
  {
   "cell_type": "code",
   "execution_count": 5,
   "metadata": {},
   "outputs": [],
   "source": [
    "def binary_representation(inverted_index, term, k = 5):\n",
    "    term_search = term.split()\n",
    "    result = []\n",
    "    for word_term in term_search:\n",
    "        if inverted_index.has_key(word_term):\n",
    "            docId_word_term = []\n",
    "            for i in range(len(inverted_index[word_term])):\n",
    "                docId_word_term.append(inverted_index[word_term][i][\"docId\"])\n",
    "            result.append(docId_word_term)\n",
    "\n",
    "    i = set(result[0])\n",
    "    for x in result[1:]:\n",
    "        i = i & set(x)\n",
    "\n",
    "    return list(i)[:k]"
   ]
  },
  {
   "cell_type": "markdown",
   "metadata": {},
   "source": [
    "### Modelo TF"
   ]
  },
  {
   "cell_type": "markdown",
   "metadata": {},
   "source": [
    "texto"
   ]
  },
  {
   "cell_type": "code",
   "execution_count": 6,
   "metadata": {},
   "outputs": [],
   "source": [
    "def TF(inverted_index, term, k = 5):\n",
    "    term_search = term.split()\n",
    "    result_id = []\n",
    "    result = {}\n",
    "    for word_term in term_search:\n",
    "        if inverted_index.has_key(word_term):\n",
    "            docId_word_term = []\n",
    "            for i in range(len(inverted_index[word_term])):\n",
    "                docId_word_term.append(inverted_index[word_term][i][\"docId\"])\n",
    "                result.setdefault(inverted_index[word_term][i][\"docId\"], []).append(inverted_index[word_term][i][\"tf\"])\n",
    "            result_id.append(docId_word_term)\n",
    "\n",
    "    i = set(result_id[0])\n",
    "    for x in result_id[1:]:\n",
    "        i = i & set(x)\n",
    "\n",
    "    z = {}\n",
    "    for x in i:\n",
    "        z[x] = sum(result[x])\n",
    "    return sorted(z, key = z.get, reverse = True)[:k]"
   ]
  },
  {
   "cell_type": "markdown",
   "metadata": {},
   "source": [
    "### Modelo TF-IDF"
   ]
  },
  {
   "cell_type": "markdown",
   "metadata": {},
   "source": [
    "texto"
   ]
  },
  {
   "cell_type": "code",
   "execution_count": 7,
   "metadata": {},
   "outputs": [],
   "source": [
    "#coding: utf-8\n",
    "def TF_IDF(inverted_index, term, k = 5):\n",
    "    term_search = term.split()\n",
    "    result_id = []\n",
    "    result = {}\n",
    "    for word_term in term_search:\n",
    "        if inverted_index.has_key(word_term):\n",
    "            docId_word_term = []\n",
    "            for i in range(len(inverted_index[word_term])):\n",
    "                docId_word_term.append(inverted_index[word_term][i][\"docId\"])\n",
    "                result.setdefault(inverted_index[word_term][i][\"docId\"], []).append(inverted_index[word_term][i][\"tf\"] * inverted_index[word_term][i][\"idf\"])\n",
    "            result_id.append(docId_word_term)\n",
    "\n",
    "    i = set(result_id[0])\n",
    "    for x in result_id[1:]:\n",
    "        i = i & set(x)\n",
    "\n",
    "    z = {}\n",
    "    for x in i:\n",
    "        z[x] = sum(result[x])\n",
    "    return sorted(z, key=z.get, reverse=True)[:k]"
   ]
  },
  {
   "cell_type": "markdown",
   "metadata": {},
   "source": [
    "### Modelo BM25"
   ]
  },
  {
   "cell_type": "markdown",
   "metadata": {},
   "source": [
    "texto"
   ]
  },
  {
   "cell_type": "code",
   "execution_count": 27,
   "metadata": {},
   "outputs": [],
   "source": [
    "def BM25(inverted_index, term, k = 5):\n",
    "    term_search = term.split()\n",
    "    result_id = []\n",
    "    result = {}\n",
    "    for word_term in term_search:\n",
    "        if inverted_index.has_key(word_term):\n",
    "            docId_word_term = []\n",
    "            for i in range(len(inverted_index[word_term])):\n",
    "                docId_word_term.append(inverted_index[word_term][i][\"docId\"])\n",
    "                result.setdefault(inverted_index[word_term][i][\"docId\"], []).append(calc_BM25(inverted_index[word_term][i][\"tf\"]))\n",
    "            result_id.append(docId_word_term)\n",
    "\n",
    "    i = set(result_id[0])\n",
    "    for x in result_id[1:]:\n",
    "        i = i & set(x)\n",
    "\n",
    "    z = {}\n",
    "    for x in i:\n",
    "        z[x] = sum(result[x])\n",
    "\n",
    "    return sorted(z, key=z.get, reverse=True)[:k]"
   ]
  },
  {
   "cell_type": "markdown",
   "metadata": {},
   "source": [
    "Esse método calcula o BM25 de um termo, baseado no seu *term frequency*."
   ]
  },
  {
   "cell_type": "code",
   "execution_count": 28,
   "metadata": {},
   "outputs": [],
   "source": [
    "def calc_BM25(tf, k = 5):\n",
    "    return (( k + 1) * tf) / ( tf + k)"
   ]
  },
  {
   "cell_type": "markdown",
   "metadata": {},
   "source": [
    "# Validação"
   ]
  },
  {
   "cell_type": "markdown",
   "metadata": {},
   "source": [
    "Esse método verifica a precisão dos resultados retornados pelos algoritmos de busca baseado em modelo vetorial implementados nesse laboratório."
   ]
  },
  {
   "cell_type": "code",
   "execution_count": 31,
   "metadata": {},
   "outputs": [],
   "source": [
    "import numpy as np\n",
    "\n",
    "def apk(actual, predicted, k=10):\n",
    "    \"\"\"\n",
    "    Computes the average precision at k.\n",
    "\n",
    "    This function computes the average prescision at k between two lists of\n",
    "    items.\n",
    "\n",
    "    Parameters\n",
    "    ----------\n",
    "    actual : list\n",
    "             A list of elements that are to be predicted (order doesn't matter)\n",
    "    predicted : list\n",
    "                A list of predicted elements (order does matter)\n",
    "    k : int, optional\n",
    "        The maximum number of predicted elements\n",
    "\n",
    "    Returns\n",
    "    -------\n",
    "    score : double\n",
    "            The average precision at k over the input lists\n",
    "\n",
    "    \"\"\"\n",
    "    if len(predicted)>k:\n",
    "        predicted = predicted[:k]\n",
    "\n",
    "    score = 0.0\n",
    "    num_hits = 0.0\n",
    "\n",
    "    for i,p in enumerate(predicted):\n",
    "        if p in actual and p not in predicted[:i]:\n",
    "            num_hits += 1.0\n",
    "            score += num_hits / (i+1.0)\n",
    "\n",
    "    if not actual:\n",
    "        return 0.0\n",
    "\n",
    "    return score / min(len(actual), k)\n",
    "\n",
    "def mapk(actual, predicted, k=10):\n",
    "    \"\"\"\n",
    "    Computes the mean average precision at k.\n",
    "\n",
    "    This function computes the mean average prescision at k between two lists\n",
    "    of lists of items.\n",
    "\n",
    "    Parameters\n",
    "    ----------\n",
    "    actual : list\n",
    "             A list of lists of elements that are to be predicted \n",
    "             (order doesn't matter in the lists)\n",
    "    predicted : list\n",
    "                A list of lists of predicted elements\n",
    "                (order matters in the lists)\n",
    "    k : int, optional\n",
    "        The maximum number of predicted elements\n",
    "\n",
    "    Returns\n",
    "    -------\n",
    "    score : double\n",
    "            The mean average precision at k over the input lists\n",
    "\n",
    "    \"\"\"\n",
    "    return np.mean([apk(a,p,k) for a,p in zip(actual, predicted)])"
   ]
  },
  {
   "cell_type": "markdown",
   "metadata": {},
   "source": [
    "# Importação do data-set"
   ]
  },
  {
   "cell_type": "markdown",
   "metadata": {},
   "source": [
    "Nesse trecho de código importamos o data-set usado em nossos algoritmos de busca, bem como importamos os dados de validação de nossos algoritmos."
   ]
  },
  {
   "cell_type": "code",
   "execution_count": 28,
   "metadata": {},
   "outputs": [
    {
     "ename": "ImportError",
     "evalue": "No module named pandas",
     "output_type": "error",
     "traceback": [
      "\u001b[0;31m---------------------------------------------------------------------------\u001b[0m",
      "\u001b[0;31mImportError\u001b[0m                               Traceback (most recent call last)",
      "\u001b[0;32m<ipython-input-28-8fa10f403641>\u001b[0m in \u001b[0;36m<module>\u001b[0;34m()\u001b[0m\n\u001b[0;32m----> 1\u001b[0;31m \u001b[0;32mimport\u001b[0m \u001b[0mpandas\u001b[0m \u001b[0;32mas\u001b[0m \u001b[0mp\u001b[0m\u001b[0;34m\u001b[0m\u001b[0m\n\u001b[0m\u001b[1;32m      2\u001b[0m \u001b[0;32mimport\u001b[0m \u001b[0mnumpy\u001b[0m \u001b[0;32mas\u001b[0m \u001b[0mnp\u001b[0m\u001b[0;34m\u001b[0m\u001b[0m\n\u001b[1;32m      3\u001b[0m \u001b[0;32mimport\u001b[0m \u001b[0msys\u001b[0m\u001b[0;34m\u001b[0m\u001b[0m\n\u001b[1;32m      4\u001b[0m \u001b[0mreload\u001b[0m\u001b[0;34m(\u001b[0m\u001b[0msys\u001b[0m\u001b[0;34m)\u001b[0m\u001b[0;34m\u001b[0m\u001b[0m\n\u001b[1;32m      5\u001b[0m \u001b[0msys\u001b[0m\u001b[0;34m.\u001b[0m\u001b[0msetdefaultencoding\u001b[0m\u001b[0;34m(\u001b[0m\u001b[0;34m'utf8'\u001b[0m\u001b[0;34m)\u001b[0m\u001b[0;34m\u001b[0m\u001b[0m\n",
      "\u001b[0;31mImportError\u001b[0m: No module named pandas"
     ]
    }
   ],
   "source": [
    "import pandas as p\n",
    "import numpy as np\n",
    "import sys\n",
    "reload(sys)\n",
    "sys.setdefaultencoding('utf8')\n",
    "\n",
    "data = p.read_csv(\"data-set/estadao_noticias_eleicao.csv\", encoding = \"utf-8\")\n",
    "data = data.replace(np.NAN, \"\")\n",
    "\n",
    "validation_data = p.read_csv(\"validation/gabarito.csv\", encoding= \"utf-8\")\n"
   ]
  },
  {
   "cell_type": "markdown",
   "metadata": {},
   "source": [
    "## Chamada ao método de contrução de indice invertido"
   ]
  },
  {
   "cell_type": "code",
   "execution_count": 26,
   "metadata": {},
   "outputs": [
    {
     "ename": "NameError",
     "evalue": "name 'data' is not defined",
     "output_type": "error",
     "traceback": [
      "\u001b[0;31m---------------------------------------------------------------------------\u001b[0m",
      "\u001b[0;31mNameError\u001b[0m                                 Traceback (most recent call last)",
      "\u001b[0;32m<ipython-input-26-918dde7167ae>\u001b[0m in \u001b[0;36m<module>\u001b[0;34m()\u001b[0m\n\u001b[0;32m----> 1\u001b[0;31m \u001b[0minverted_index_values\u001b[0m \u001b[0;34m=\u001b[0m  \u001b[0mbuild\u001b[0m\u001b[0;34m(\u001b[0m\u001b[0mdata\u001b[0m\u001b[0;34m)\u001b[0m\u001b[0;34m\u001b[0m\u001b[0m\n\u001b[0m",
      "\u001b[0;31mNameError\u001b[0m: name 'data' is not defined"
     ]
    }
   ],
   "source": [
    "inverted_index_values =  build(data)"
   ]
  },
  {
   "cell_type": "markdown",
   "metadata": {},
   "source": [
    "Como as listas contidas no data-set de validação estão no formato de string e não de lista, foi necessário fazer a conversão de string em lista."
   ]
  },
  {
   "cell_type": "code",
   "execution_count": null,
   "metadata": {},
   "outputs": [],
   "source": [
    "\n",
    "validation_data.google = validation_data.google.apply(convert_str_in_lst)\n",
    "validation_data.busca_binaria = validation_data.busca_binaria.apply(convert_str_in_lst)\n",
    "validation_data.tf = validation_data.tf.apply(convert_str_in_lst)\n",
    "validation_data.tfidf = validation_data.tfidf.apply(convert_str_in_lst)\n",
    "validation_data.bm25 = validation_data.bm25.apply(convert_str_in_lst)"
   ]
  },
  {
   "cell_type": "markdown",
   "metadata": {},
   "source": [
    "Esse trecho de codigo mostra a precisão dos modelos vetoriais criados com relação ao google."
   ]
  },
  {
   "cell_type": "code",
   "execution_count": null,
   "metadata": {},
   "outputs": [],
   "source": [
    "binary_search = [b.binary_representation(inverted_index_values, inverted_index.clear_text(term)) for term in validation_data.str_busca]\n",
    "print \"Precisão gabarito busca binária: %.3f\" % (valid.mapk(validation_data.busca_binaria, binary_search, k=5))\n",
    "print \"Precisão gabarito busca google: %.3f\" % (valid.mapk(validation_data.google, binary_search, k=5))\n",
    "\n",
    "tf_search = [tf.TF(inverted_index_values, inverted_index.clear_text(term)) for term in validation_data.str_busca]\n",
    "print \"Precisão gabarito busca TF: %.3f\" %(valid.mapk(validation_data.tf, tf_search, k=5))\n",
    "print \"Precisão gabarito busca google: %.3f\" %(valid.mapk(validation_data.google, tf_search, k=5))\n",
    "\n",
    "tfidf_search = [tfidf.TF_IDF(inverted_index_values, inverted_index.clear_text(term)) for term in validation_data.str_busca]\n",
    "print \"Precisão gabarito busca TF-IDF: %.3f\" %(valid.mapk(validation_data.tfidf, tfidf_search, k=5))\n",
    "print \"Precisão gabarito busca google: %.3f\" %(valid.mapk(validation_data.google, tfidf_search, k=5))\n",
    "\n",
    "bm25_search = [bm25.BM25(inverted_index_values, inverted_index.clear_text(term)) for term in validation_data.str_busca]\n",
    "print \"Precisão gabarito busca  BM25: %.3f\" %(valid.mapk(validation_data.bm25, bm25_search, k=5))\n",
    "print \"Precisão gabarito busca google: %.3f\" %(valid.mapk(validation_data.google, bm25_search, k=5))"
   ]
  }
 ],
 "metadata": {
  "kernelspec": {
   "display_name": "Python 2",
   "language": "python",
   "name": "python2"
  },
  "language_info": {
   "codemirror_mode": {
    "name": "ipython",
    "version": 2
   },
   "file_extension": ".py",
   "mimetype": "text/x-python",
   "name": "python",
   "nbconvert_exporter": "python",
   "pygments_lexer": "ipython2",
   "version": "2.7.14"
  }
 },
 "nbformat": 4,
 "nbformat_minor": 2
}
