{
 "cells": [
  {
   "cell_type": "code",
   "execution_count": 6,
   "metadata": {},
   "outputs": [
    {
     "name": "stdout",
     "output_type": "stream",
     "text": [
      "['veja', 'as', 'principais', 'fotos', 'do', 'dia', 'e', 'dos', 'eventos', 'especiais', 'do', 'brasil', 'e', 'do', 'mundo', 'nas', 'galerias', 'de', 'fotos', 'do', 'estadao', 'acesse', 'ja']\n",
      "['veja', 'principais', 'fotos', 'dia', 'eventos', 'especiais', 'brasil', 'mundo', 'galerias', 'fotos', 'estadao', 'acesse', 'ja']\n",
      "vejaprincipaisfotosdiaeventosespeciaisbrasilmundogaleriasfotosestadaoacesseja\n"
     ]
    }
   ],
   "source": [
    "from nltk.corpus import stopwords\n",
    "from nltk.tokenize import word_tokenize\n",
    " \n",
    "example_sent = \"veja as principais fotos do dia e dos eventos especiais do brasil e do mundo nas galerias de fotos do estadao  acesse ja \"\n",
    " \n",
    "stop_words = set(stopwords.words('portuguese'))\n",
    " \n",
    "word_tokens = word_tokenize(example_sent)\n",
    " \n",
    "filtered_sentence = [w for w in word_tokens if not w in stop_words]\n",
    " \n",
    "filtered_sentence = []\n",
    " \n",
    "for w in word_tokens:\n",
    "    if w not in stop_words:\n",
    "        filtered_sentence.append(w)\n",
    " \n",
    "print(word_tokens)\n",
    "str1 = ' '.join(filtered_sentence)\n",
    "print(filtered_sentence)\n",
    "print(str1)"
   ]
  }
 ],
 "metadata": {
  "kernelspec": {
   "display_name": "Python 3",
   "language": "python",
   "name": "python3"
  },
  "language_info": {
   "codemirror_mode": {
    "name": "ipython",
    "version": 3
   },
   "file_extension": ".py",
   "mimetype": "text/x-python",
   "name": "python",
   "nbconvert_exporter": "python",
   "pygments_lexer": "ipython3",
   "version": "3.5.2"
  }
 },
 "nbformat": 4,
 "nbformat_minor": 2
}
