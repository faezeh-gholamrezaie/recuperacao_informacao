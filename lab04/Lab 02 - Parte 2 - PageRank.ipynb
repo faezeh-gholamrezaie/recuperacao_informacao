{
 "cells": [
  {
   "cell_type": "markdown",
   "metadata": {},
   "source": [
    "# Lab 02 - Parte 2 - PageRank"
   ]
  },
  {
   "cell_type": "markdown",
   "metadata": {},
   "source": [
    "### Algoritmo de PageRank"
   ]
  },
  {
   "cell_type": "markdown",
   "metadata": {},
   "source": [
    "Descrição do algoritmo"
   ]
  },
  {
   "cell_type": "markdown",
   "metadata": {},
   "source": []
  },
  {
   "cell_type": "markdown",
   "metadata": {},
   "source": [
    "### Implementação"
   ]
  },
  {
   "cell_type": "code",
   "execution_count": 57,
   "metadata": {
    "collapsed": true
   },
   "outputs": [],
   "source": [
    "import numpy as n\n",
    "import pandas as p\n",
    "\n",
    "D = 0.15\n",
    "COMPLEMENT_D = 1 - D"
   ]
  },
  {
   "cell_type": "code",
   "execution_count": 58,
   "metadata": {},
   "outputs": [],
   "source": [
    "# import data-set\n",
    "data = p.read_csv('data-set/ratings.csv', encoding = 'utf-8')\n",
    "numeber_of_transactions = data.SOURCE.count()"
   ]
  },
  {
   "cell_type": "markdown",
   "metadata": {},
   "source": [
    "Gerar matrix"
   ]
  },
  {
   "cell_type": "code",
   "execution_count": 59,
   "metadata": {},
   "outputs": [],
   "source": [
    "def generate_matrix_a(data):\n",
    "    print (data)"
   ]
  },
  {
   "cell_type": "code",
   "execution_count": 61,
   "metadata": {},
   "outputs": [
    {
     "name": "stdout",
     "output_type": "stream",
     "text": [
      "      SOURCE  TARGET  RATING          TIME\n",
      "0         13      16       8  1.289254e+09\n",
      "1         13      10       8  1.289254e+09\n",
      "2         21       1       8  1.289441e+09\n",
      "3         21      10       8  1.289441e+09\n",
      "4         21       8       9  1.289441e+09\n",
      "5         10       1       8  1.289556e+09\n",
      "6         10      21       8  1.289556e+09\n",
      "7         10      25      10  1.289556e+09\n",
      "8         13       1       8  1.290521e+09\n",
      "9          1      17       9  1.290969e+09\n",
      "10        17       1       9  1.291218e+09\n",
      "11        61      20       8  1.292824e+09\n",
      "12        71       1       8  1.293482e+09\n",
      "13       119       1      10  1.296513e+09\n",
      "14       119     127      10  1.296609e+09\n",
      "15         1       2       8  1.296629e+09\n",
      "16       127     119      10  1.296773e+09\n",
      "17         2       3       8  1.297570e+09\n",
      "18         1       7       9  1.298267e+09\n",
      "19         2       1       8  1.299557e+09\n",
      "20        39       2       8  1.301333e+09\n",
      "21        33       1       8  1.301608e+09\n",
      "22       237     202      10  1.301828e+09\n",
      "23         2      62       8  1.301899e+09\n",
      "24        80      81       8  1.302045e+09\n",
      "25        60     257      10  1.302297e+09\n",
      "26       149      25      10  1.302791e+09\n",
      "27       279      60       8  1.302924e+09\n",
      "28       283     284      10  1.302959e+09\n",
      "29       284     283      10  1.303065e+09\n",
      "...      ...     ...     ...           ...\n",
      "1120    5648    3986       8  1.415608e+09\n",
      "1121    3649    3429       8  1.415922e+09\n",
      "1122    3903    1352      10  1.417670e+09\n",
      "1123    5862    5859      10  1.418259e+09\n",
      "1124     215    5422       8  1.419892e+09\n",
      "1125    4553    4291       8  1.420319e+09\n",
      "1126    5507    5896      10  1.422989e+09\n",
      "1127    5896    5507      10  1.423043e+09\n",
      "1128    5899    5439      10  1.423107e+09\n",
      "1129    5890      35       8  1.423170e+09\n",
      "1130    5411    4649      10  1.423655e+09\n",
      "1131       2    5929       8  1.427728e+09\n",
      "1132    4649    5411      10  1.427898e+09\n",
      "1133    1819    1810       9  1.428212e+09\n",
      "1134    3345    4649       8  1.429549e+09\n",
      "1135    5955    5958      10  1.432777e+09\n",
      "1136    5958    5955      10  1.432779e+09\n",
      "1137    4163    2067      10  1.433448e+09\n",
      "1138    3903    1810      10  1.433495e+09\n",
      "1139    5963    2045      10  1.433696e+09\n",
      "1140    2073    5971      10  1.437707e+09\n",
      "1141    5971    5960      10  1.437708e+09\n",
      "1142    1565      57       8  1.438619e+09\n",
      "1143    3804    2388      10  1.441151e+09\n",
      "1144    4004    5845      10  1.441663e+09\n",
      "1145    5956    5227       8  1.442015e+09\n",
      "1146    5999    3878       8  1.449651e+09\n",
      "1147    2045      33       9  1.450222e+09\n",
      "1148      33    2045       9  1.450222e+09\n",
      "1149    3714     481      10  1.450415e+09\n",
      "\n",
      "[1150 rows x 4 columns]\n"
     ]
    }
   ],
   "source": [
    "generate_matrix_a(data)"
   ]
  },
  {
   "cell_type": "code",
   "execution_count": 60,
   "metadata": {},
   "outputs": [
    {
     "ename": "ValueError",
     "evalue": "operands could not be broadcast together with shapes (6,6) (1150,1150) ",
     "output_type": "error",
     "traceback": [
      "\u001b[0;31m---------------------------------------------------------------------------\u001b[0m",
      "\u001b[0;31mValueError\u001b[0m                                Traceback (most recent call last)",
      "\u001b[0;32m<ipython-input-60-2d63a1250994>\u001b[0m in \u001b[0;36m<module>\u001b[0;34m()\u001b[0m\n\u001b[1;32m     19\u001b[0m ])\n\u001b[1;32m     20\u001b[0m \u001b[0;34m\u001b[0m\u001b[0m\n\u001b[0;32m---> 21\u001b[0;31m \u001b[0mm\u001b[0m \u001b[0;34m=\u001b[0m \u001b[0mCOMPLEMENT_D\u001b[0m \u001b[0;34m*\u001b[0m \u001b[0ma\u001b[0m \u001b[0;34m+\u001b[0m \u001b[0mD\u001b[0m \u001b[0;34m*\u001b[0m \u001b[0mb\u001b[0m\u001b[0;34m\u001b[0m\u001b[0m\n\u001b[0m\u001b[1;32m     22\u001b[0m \u001b[0;34m\u001b[0m\u001b[0m\n\u001b[1;32m     23\u001b[0m '''\n",
      "\u001b[0;31mValueError\u001b[0m: operands could not be broadcast together with shapes (6,6) (1150,1150) "
     ]
    }
   ],
   "source": [
    "\n",
    "'''\n",
    "    Original transiton matrix a, with A=0, B=1, ...\n",
    "'''\n",
    "a = n.matrix([\n",
    "    [0, 0, 0, 0, 0, 0],\n",
    "    [1.0, 0, 1.0/3.0, 1.0/3.0, 1.0/4.0, 0],\n",
    "    [0, 1.0/3.0 , 0, 1.0/3.0, 1.0/4.0, 0],\n",
    "    [0, 1.0/3.0 ,1.0/3.0, 0,1.0/4.0, 0],\n",
    "    [0, 1.0/3.0, 1.0/3.0, 1.0/3.0, 0, 0],\n",
    "    [0, 0, 0, 0, 1.0/4.0,0]])\n",
    "\n",
    "'''\n",
    "    Google matrix m with damping factor = 0.15\n",
    "    numero de transacoes no denominador\n",
    "'''\n",
    "b = ( float(1) / float(numeber_of_transactions) ) * n.matrix([\n",
    "    [1] * numeber_of_transactions for i in range(numeber_of_transactions)\n",
    "])\n",
    "\n",
    "m = COMPLEMENT_D * a + D * b\n",
    "\n",
    "'''\n",
    "    Original normalized vector v\n",
    "'''\n",
    "\n",
    "v = ( float(1) / float(numeber_of_transactions) ) * n.matrix([[1] * 1 for i in range(numeber_of_transactions)])\n",
    "\n",
    "count = 0\n",
    "'''\n",
    "    Define the pagerank function. It does m*v and recursive calls itself until it converges.\n",
    "    The converge difference( sum of difference of every elements) is set to 0.001.\n",
    "'''\n",
    "def pagerank(v):\n",
    "    global count\n",
    "    if sum(abs( m * v - v)) > 0.001:\n",
    "        count+=1\n",
    "#         print ('count:',count)\n",
    "#         print m*v\n",
    "#         print ('sum(abs(m*v-v)):',sum(abs( m * v - v)))\n",
    "        return pagerank(m*v)\n",
    "    else:\n",
    "        count+=1\n",
    "#         print ('count:',count)\n",
    "#         print m * v\n",
    "#         print ('sum(abs(m*v-v)):',sum(abs(m * v - v)))\n",
    "        return m * v\n",
    "\n",
    "'''\n",
    "    Calls pagerank function.\n",
    "'''    \n",
    "result = pagerank(v)\n",
    "\n",
    "'''\n",
    "    Print the sorted result.\n",
    "'''\n",
    "print ('Sorted result:','\\n',sorted(result, reverse=True))\n",
    "print ('B','E','C','D','F','A')"
   ]
  }
 ],
 "metadata": {
  "kernelspec": {
   "display_name": "Python 3",
   "language": "python",
   "name": "python3"
  },
  "language_info": {
   "codemirror_mode": {
    "name": "ipython",
    "version": 3
   },
   "file_extension": ".py",
   "mimetype": "text/x-python",
   "name": "python",
   "nbconvert_exporter": "python",
   "pygments_lexer": "ipython3",
   "version": "3.6.2"
  }
 },
 "nbformat": 4,
 "nbformat_minor": 2
}
