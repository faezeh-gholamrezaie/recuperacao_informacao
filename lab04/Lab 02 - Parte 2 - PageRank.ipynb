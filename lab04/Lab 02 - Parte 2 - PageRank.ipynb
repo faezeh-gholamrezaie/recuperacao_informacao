{
 "cells": [
  {
   "cell_type": "markdown",
   "metadata": {},
   "source": [
    "# Lab 02 - Parte 2 - PageRank"
   ]
  },
  {
   "cell_type": "markdown",
   "metadata": {},
   "source": [
    "### Algoritmo de PageRank"
   ]
  },
  {
   "cell_type": "markdown",
   "metadata": {},
   "source": [
    "PageRank é um algoritmo utilizado pela ferramenta de busca Google para posicionar websites entre os resultados de suas buscas. O PageRank mede a importância de uma página contabilizando a quantidade e qualidade de links apontando para ela. Em nossa atividade vamos medir a importancia de um investidor"
   ]
  },
  {
   "cell_type": "code",
   "execution_count": null,
   "metadata": {},
   "outputs": [],
   "source": [
    "import numpy as n\n",
    "import pandas as p\n",
    "\n",
    "D = 0.15 # fator de teletransporte\n",
    "COMPLEMENT_D = 1 - D\n",
    "count = 0 # número de iterações"
   ]
  },
  {
   "cell_type": "markdown",
   "metadata": {},
   "source": [
    "### Geração da matrix de transição"
   ]
  },
  {
   "cell_type": "code",
   "execution_count": 3,
   "metadata": {},
   "outputs": [],
   "source": [
    "def generate_matrix_a(source, target, nodes):\n",
    "    numeber_of_transactions = len(source)\n",
    "    numeber_of_nodes = len(nodes)\n",
    "\n",
    "    a = n.zeros(shape=(numeber_of_nodes, numeber_of_nodes))\n",
    "    '''\n",
    "        As chaves do dicionário são os ID dos investidores e o valor é a lista de ID dos investidores\n",
    "        que ele fez operações.\n",
    "    '''\n",
    "    adjacence_dict = {\n",
    "        node: [] for node in nodes\n",
    "    }\n",
    "\n",
    "    for i in range(numeber_of_transactions):\n",
    "        origin = source[i]\n",
    "        destiny = target[i]\n",
    "        adjacence_dict[origin].append(destiny)\n",
    "    '''\n",
    "        Matrix de transição\n",
    "    '''\n",
    "    for i in range(numeber_of_nodes):\n",
    "        for j in range(numeber_of_nodes):\n",
    "            origin = nodes[i]\n",
    "            destiny = nodes[j]\n",
    "            if destiny in adjacence_dict[origin]: a[j][i] = float(1) / float(len(adjacence_dict[origin]))\n",
    "\n",
    "    return n.matrix(a)"
   ]
  },
  {
   "cell_type": "markdown",
   "metadata": {},
   "source": [
    "### Calculo do PageRank"
   ]
  },
  {
   "cell_type": "markdown",
   "metadata": {},
   "source": [
    "Método que calcula o pagerank de cada nó"
   ]
  },
  {
   "cell_type": "code",
   "execution_count": null,
   "metadata": {},
   "outputs": [],
   "source": [
    "def pagerank(v):\n",
    "    global count\n",
    "    count += 1\n",
    "    if sum(abs( m * v - v)) > 0.001:\n",
    "        return pagerank(m * v)\n",
    "\n",
    "    return m * v"
   ]
  },
  {
   "cell_type": "markdown",
   "metadata": {},
   "source": [
    "### Importação dos dados"
   ]
  },
  {
   "cell_type": "code",
   "execution_count": null,
   "metadata": {},
   "outputs": [],
   "source": [
    "data = p.read_csv('data-set/ratings.csv', encoding='utf-8')\n",
    "data = data.sort_values(by=['SOURCE', 'TARGET']) # ordenando as colunas acredito que fica melhor de se trabalhar com os dados"
   ]
  },
  {
   "cell_type": "markdown",
   "metadata": {},
   "source": [
    "Criando uma lista de nós origem e destino, bem como uma lista com todos os *'nós'*"
   ]
  },
  {
   "cell_type": "code",
   "execution_count": null,
   "metadata": {},
   "outputs": [],
   "source": [
    "source = list(data.SOURCE)\n",
    "target = list(data.TARGET)\n",
    "nodes = list(set(source) | set(list(target)))\n",
    "numeber_of_nodes = len(nodes)"
   ]
  },
  {
   "cell_type": "markdown",
   "metadata": {},
   "source": [
    "### Gerando as matrizes"
   ]
  },
  {
   "cell_type": "code",
   "execution_count": null,
   "metadata": {},
   "outputs": [],
   "source": [
    "a = generate_matrix_a(source, target, nodes) # matrix de transição\n",
    "b = (float(1) / float(numeber_of_nodes)) * n.matrix([[1] * numeber_of_nodes for i in range(numeber_of_nodes)]) # matrix identidade\n",
    "m = COMPLEMENT_D * a + D * b # google matrix com fator de teletransporte 0.15\n",
    "v = (float(1) / float(numeber_of_nodes)) * n.matrix([[1] for i in range(numeber_of_nodes)]) # vetor normalizado"
   ]
  },
  {
   "cell_type": "markdown",
   "metadata": {},
   "source": [
    "### Calculando o PageRank"
   ]
  },
  {
   "cell_type": "code",
   "execution_count": null,
   "metadata": {},
   "outputs": [],
   "source": [
    "result = pagerank(v)\n",
    "result = [cell.item(0,0) for cell in result]"
   ]
  },
  {
   "cell_type": "markdown",
   "metadata": {},
   "source": [
    "### Exportando os dados"
   ]
  },
  {
   "cell_type": "code",
   "execution_count": null,
   "metadata": {},
   "outputs": [],
   "source": [
    "to_data_frame = p.DataFrame({\n",
    "    'id': nodes,\n",
    "    'PageRank': result\n",
    "})\n",
    "to_data_frame.to_csv('data-set/result-PageRank.csv', index=False)"
   ]
  },
  {
   "cell_type": "markdown",
   "metadata": {},
   "source": [
    "## Perguntas"
   ]
  },
  {
   "cell_type": "markdown",
   "metadata": {},
   "source": [
    " * **Quantas iterações o PageRank precisou rodar até atingir convergência?** O algoritmo convergiu depois de 35 iterações "
   ]
  },
  {
   "cell_type": "markdown",
   "metadata": {},
   "source": [
    " * **Quais os 5 investidores mais importantes segundo o PageRank? Quais seus valores de PageRank?**"
   ]
  },
  {
   "cell_type": "markdown",
   "metadata": {},
   "source": [
    "| ID do investidor    | Valor do PageRanck |\n",
    "| ------------- |:------------------:|\n",
    "| 1      | 0.0001389966733507318      |\n",
    "| 202   | 0.00012469043877648832           |\n",
    "| 144 | 0.00011742202596525958           |\n",
    "| 3996 | 9.278695890889267e-05           |\n",
    "| 361 | 9.154803394727113e-05           |"
   ]
  },
  {
   "cell_type": "markdown",
   "metadata": {},
   "source": [
    " * **Como você poderia usar o PageRank caso você fosse um investidor em bitcoins?**  Usando o valor do pagerank  obtido podemos analisar o risco de uma operação de compra por exemplo de bitcoin de um determinado investidor, podendo ser esta operação fraudulenta ou não"
   ]
  }
 ],
 "metadata": {
  "kernelspec": {
   "display_name": "Python 2",
   "language": "python",
   "name": "python2"
  },
  "language_info": {
   "codemirror_mode": {
    "name": "ipython",
    "version": 2
   },
   "file_extension": ".py",
   "mimetype": "text/x-python",
   "name": "python",
   "nbconvert_exporter": "python",
   "pygments_lexer": "ipython2",
   "version": "2.7.14"
  }
 },
 "nbformat": 4,
 "nbformat_minor": 2
}
