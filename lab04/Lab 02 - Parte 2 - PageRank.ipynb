{
 "cells": [
  {
   "cell_type": "markdown",
   "metadata": {},
   "source": [
    "# Lab 02 - Parte 2 - PageRank"
   ]
  },
  {
   "cell_type": "markdown",
   "metadata": {},
   "source": [
    "### Algoritmo de PageRank"
   ]
  },
  {
   "cell_type": "markdown",
   "metadata": {},
   "source": [
    "Descrição do algoritmo"
   ]
  },
  {
   "cell_type": "markdown",
   "metadata": {},
   "source": []
  },
  {
   "cell_type": "markdown",
   "metadata": {},
   "source": [
    "### Implementação"
   ]
  },
  {
   "cell_type": "code",
   "execution_count": 1,
   "metadata": {},
   "outputs": [
    {
     "ename": "ImportError",
     "evalue": "No module named pandas",
     "output_type": "error",
     "traceback": [
      "\u001b[0;31m---------------------------------------------------------------------------\u001b[0m",
      "\u001b[0;31mImportError\u001b[0m                               Traceback (most recent call last)",
      "\u001b[0;32m<ipython-input-1-7d59e5354cbe>\u001b[0m in \u001b[0;36m<module>\u001b[0;34m()\u001b[0m\n\u001b[1;32m      1\u001b[0m \u001b[0;32mimport\u001b[0m \u001b[0mnumpy\u001b[0m \u001b[0;32mas\u001b[0m \u001b[0mn\u001b[0m\u001b[0;34m\u001b[0m\u001b[0m\n\u001b[0;32m----> 2\u001b[0;31m \u001b[0;32mimport\u001b[0m \u001b[0mpandas\u001b[0m\u001b[0;34m\u001b[0m\u001b[0m\n\u001b[0m\u001b[1;32m      3\u001b[0m \u001b[0mD\u001b[0m \u001b[0;34m=\u001b[0m \u001b[0;36m0.15\u001b[0m\u001b[0;34m\u001b[0m\u001b[0m\n\u001b[1;32m      4\u001b[0m \u001b[0mCOMPLEMENT_D\u001b[0m \u001b[0;34m=\u001b[0m \u001b[0;36m1\u001b[0m \u001b[0;34m-\u001b[0m \u001b[0mD\u001b[0m\u001b[0;34m\u001b[0m\u001b[0m\n\u001b[1;32m      5\u001b[0m \u001b[0;34m\u001b[0m\u001b[0m\n",
      "\u001b[0;31mImportError\u001b[0m: No module named pandas"
     ]
    }
   ],
   "source": [
    "import numpy as n\n",
    "import pandas\n",
    "D = 0.15\n",
    "COMPLEMENT_D = 1 - D\n",
    "\n",
    "'''\n",
    "    Original transiton matrix a, with A=0, B=1, ...\n",
    "'''\n",
    "a = n.matrix([\n",
    "    [0, 0, 0, 0, 0, 0],\n",
    "    [1.0, 0, 1.0/3.0, 1.0/3.0, 1.0/4.0, 0],\n",
    "    [0, 1.0/3.0 , 0, 1.0/3.0, 1.0/4.0, 0],\n",
    "    [0, 1.0/3.0 ,1.0/3.0, 0,1.0/4.0, 0],\n",
    "    [0, 1.0/3.0, 1.0/3.0, 1.0/3.0, 0, 0],\n",
    "    [0, 0, 0, 0, 1.0/4.0,0]])\n",
    "\n",
    "'''\n",
    "    Google matrix m with damping factor = 0.15\n",
    "'''\n",
    "b = (float(1)/ float(6)) * n.matrix([\n",
    "    [1,1,1,1,1,1],\n",
    "    [1,1,1,1,1,1],\n",
    "    [1,1,1,1,1,1],\n",
    "    [1,1,1,1,1,1],\n",
    "    [1,1,1,1,1,1],\n",
    "    [1,1,1,1,1,1]])\n",
    "\n",
    "m = COMPLEMENT_D * a + D * b\n",
    "\n",
    "'''\n",
    "    Original normalized vector v\n",
    "'''\n",
    "\n",
    "v = (float(1)/float(6))*n.matrix([\n",
    "    [1],\n",
    "    [1],\n",
    "    [1],\n",
    "    [1],\n",
    "    [1],\n",
    "    [1]])\n",
    "\n",
    "count = 0\n",
    "'''\n",
    "    Define the pagerank function. It does m*v and recursive calls itself until it converges.\n",
    "    The converge difference( sum of difference of every elements) is set to 0.001.\n",
    "'''\n",
    "def pagerank(v):\n",
    "    global count\n",
    "    if sum(abs(m*v-v))>0.001:\n",
    "        count+=1\n",
    "        print 'count:',count\n",
    "        print m*v\n",
    "        print 'sum(abs(m*v-v)):',sum(abs(m*v-v))\n",
    "        return pagerank(m*v)\n",
    "    else:\n",
    "        count+=1\n",
    "        print 'count:',count\n",
    "        print m*v\n",
    "        print 'sum(abs(m*v-v)):',sum(abs(m*v-v))\n",
    "        return m*v\n",
    "\n",
    "'''\n",
    "    Calls pagerank function.\n",
    "'''    \n",
    "result = pagerank(v)\n",
    "\n",
    "'''\n",
    "    Print the sorted result.\n",
    "'''\n",
    "print 'Sorted result:','\\n',sorted(result, reverse=True)\n",
    "print 'B','E','C','D','F','A'"
   ]
  }
 ],
 "metadata": {
  "kernelspec": {
   "display_name": "Python 2",
   "language": "python",
   "name": "python2"
  },
  "language_info": {
   "codemirror_mode": {
    "name": "ipython",
    "version": 2
   },
   "file_extension": ".py",
   "mimetype": "text/x-python",
   "name": "python",
   "nbconvert_exporter": "python",
   "pygments_lexer": "ipython2",
   "version": "2.7.14"
  }
 },
 "nbformat": 4,
 "nbformat_minor": 2
}
